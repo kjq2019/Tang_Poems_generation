{
 "cells": [
  {
   "cell_type": "code",
   "execution_count": 1,
   "metadata": {},
   "outputs": [],
   "source": [
    "import os\n",
    "import time\n",
    "from collections import deque\n",
    "import matplotlib.pyplot as plt\n",
    "import numpy as np\n",
    "import cv2\n",
    "import torch\n",
    "import torch.nn as nn\n",
    "import torch.nn.functional as F\n",
    "import torch.optim as optim\n",
    "from torchvision import datasets, transforms\n",
    "import json\n",
    "import glob\n"
   ]
  },
  {
   "cell_type": "code",
   "execution_count": 2,
   "metadata": {},
   "outputs": [],
   "source": [
    "device = torch.device(\"cuda\" if torch.cuda.is_available() else \"cpu\")\n",
    "n_words = 20 # 五言絕句\n",
    "n_class = 0"
   ]
  },
  {
   "cell_type": "code",
   "execution_count": 3,
   "metadata": {},
   "outputs": [],
   "source": [
    "def encode_context(context, charset):\n",
    "    def f(x):\n",
    "        return charset[x] if x in charset else 0\n",
    "    return list(map(f, list(context)))\n",
    "def one_hot(x, n_class):\n",
    "    ohe = np.zeros((len(x), n_class), dtype=np.uint8)\n",
    "    ohe[np.arange(len(x)), x] = 1\n",
    "    return ohe\n",
    "def str2ohe(x, charset):\n",
    "    return one_hot(encode_context(x, charset), len(charset))\n",
    "def ohe2str(x, charset_inv):\n",
    "    x = np.argmax(x,axis=-1)\n",
    "    return ''.join(list(map(lambda a: charset_inv[a], list(x))))"
   ]
  },
  {
   "cell_type": "code",
   "execution_count": 4,
   "metadata": {},
   "outputs": [],
   "source": [
    "strainset = {'平': 0, '仄': 1}\n",
    "strainset_inv = {0: '平', 1: '仄'}\n",
    "with open('./charset.json', 'r') as fp:\n",
    "    charset = json.loads(fp.read())\n",
    "charset_inv = {}\n",
    "for key, value in charset.items():\n",
    "    charset_inv[value] = key"
   ]
  },
  {
   "cell_type": "code",
   "execution_count": 5,
   "metadata": {},
   "outputs": [],
   "source": [
    "n_class = len(charset)"
   ]
  },
  {
   "cell_type": "code",
   "execution_count": 6,
   "metadata": {},
   "outputs": [],
   "source": [
    "class G(nn.Module):\n",
    "    def __init__(self, n_words=20, n_class=5000):\n",
    "        super(G, self).__init__()\n",
    "        self.n_words = n_words\n",
    "        self.n_class = n_class\n",
    "        \n",
    "        self.conv1 = nn.Conv1d(2, 64, kernel_size=3, stride=1, padding=1, bias=False) # 20\n",
    "        self.norm1 = nn.InstanceNorm1d(64)\n",
    "        self.conv2 = nn.Conv1d(64, 128, kernel_size=5, stride=2, padding=2, bias=False) # 10\n",
    "        self.norm2 = nn.InstanceNorm1d(128)\n",
    "        self.conv3 = nn.Conv1d(128, 256, kernel_size=3, stride=1, padding=1, bias=False) # 10\n",
    "        self.norm3 = nn.InstanceNorm1d(256)\n",
    "        self.conv4 = nn.Conv1d(256, 512, kernel_size=3, stride=2, padding=1, bias=False) # 5\n",
    "        self.norm4 = nn.InstanceNorm1d(512)\n",
    "        self.upconv5 = nn.ConvTranspose1d(512, 256, kernel_size=4, stride=2, padding=1, bias=False) # 10\n",
    "        self.norm5 = nn.InstanceNorm1d(256+256)\n",
    "        self.upconv6 = nn.ConvTranspose1d(256+256, 300, kernel_size=4, stride=2, padding=1, bias=False) # 20\n",
    "        self.norm6 = nn.InstanceNorm1d(300+64)\n",
    "        self.conv7 = nn.Conv1d(300+64, self.n_class, kernel_size=1, stride=1, padding=0, bias=False) # 20\n",
    "        \n",
    "    def forward(self, x):\n",
    "        \n",
    "        x = self.conv1(x)\n",
    "        x = self.norm1(x)\n",
    "        x = F.leaky_relu(x, 0.1)\n",
    "        x = F.dropout(x, 0.5)\n",
    "        s1 = x\n",
    "        \n",
    "        x = self.conv2(x)\n",
    "        x = self.norm2(x)\n",
    "        x = F.leaky_relu(x, 0.1)\n",
    "        x = F.dropout(x, 0.5)\n",
    "        \n",
    "        x = self.conv3(x)\n",
    "        x = self.norm3(x)\n",
    "        x = F.leaky_relu(x, 0.1) # 10\n",
    "        s2 = x\n",
    "        \n",
    "        x = self.conv4(x)\n",
    "        x = self.norm4(x)\n",
    "        x = F.leaky_relu(x, 0.1) # 5\n",
    "        \n",
    "        x = self.upconv5(x)\n",
    "        x = torch.cat((x, s2), 1)\n",
    "        x = self.norm5(x)\n",
    "        x = F.leaky_relu(x, 0.1) # 10\n",
    "        \n",
    "        x = self.upconv6(x)\n",
    "        x = torch.cat((x, s1), 1)\n",
    "        x = self.norm6(x)\n",
    "        x = F.leaky_relu(x, 0.1) # 20\n",
    "        \n",
    "        x = self.conv7(x) # 20\n",
    "        x = torch.tanh(x)\n",
    "        return x\n"
   ]
  },
  {
   "cell_type": "code",
   "execution_count": 7,
   "metadata": {},
   "outputs": [],
   "source": [
    "G_net = G(n_words, n_class)\n",
    "G_net.load_state_dict(torch.load('/home/peter/GANs/strains2poem_checkpoints/iter-18000-G.ckpt'))\n",
    "G_net = G_net.to(device)\n",
    "_ = G_net.train() # enable dropout"
   ]
  },
  {
   "cell_type": "code",
   "execution_count": 8,
   "metadata": {},
   "outputs": [],
   "source": [
    "strains = [\n",
    "    '平仄平平仄平平仄仄平平平仄平仄平仄仄平平',\n",
    "    '仄平仄仄仄仄仄平平仄仄仄仄平平仄平平平平',\n",
    "    '平平平平仄仄平平仄平仄平仄平仄平仄仄平平'\n",
    "]\n",
    "\n",
    "strains_ohe = torch.from_numpy(np.asarray(list(map(lambda x: str2ohe(x, strainset), strains)), dtype=np.float32).transpose(0,2,1)).to(device)"
   ]
  },
  {
   "cell_type": "code",
   "execution_count": 9,
   "metadata": {},
   "outputs": [],
   "source": [
    "generated = G_net(strains_ohe)\n",
    "generated = generated.detach().cpu().numpy().transpose(0,2,1)\n",
    "generated = list(map(lambda x: ohe2str(x, charset_inv), generated))"
   ]
  },
  {
   "cell_type": "code",
   "execution_count": 10,
   "metadata": {},
   "outputs": [
    {
     "name": "stdout",
     "output_type": "stream",
     "text": [
      "風大開三萬，平誰子後人。\n",
      "香時有餘後，方野得歸聲。\n",
      "\n",
      "小寒後老我，有雪成回復。\n",
      "野地自無愁，三如明後聲。\n",
      "\n",
      "風書山煙已，更空風可安。\n",
      "草時人空地，吾後當香人。\n",
      "\n"
     ]
    }
   ],
   "source": [
    "for l, poet in zip(strains,generated):\n",
    "    print(poet[:5]+'，'+poet[5:10]+'。\\n'+poet[10:15]+'，'+poet[15:20]+'。\\n')"
   ]
  }
 ],
 "metadata": {
  "kernelspec": {
   "display_name": "Python 3",
   "language": "python",
   "name": "python3"
  },
  "language_info": {
   "codemirror_mode": {
    "name": "ipython",
    "version": 3
   },
   "file_extension": ".py",
   "mimetype": "text/x-python",
   "name": "python",
   "nbconvert_exporter": "python",
   "pygments_lexer": "ipython3",
   "version": "3.6.7"
  }
 },
 "nbformat": 4,
 "nbformat_minor": 2
}
